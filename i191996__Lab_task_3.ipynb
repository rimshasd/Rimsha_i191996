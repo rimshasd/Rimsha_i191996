{
  "nbformat": 4,
  "nbformat_minor": 0,
  "metadata": {
    "colab": {
      "provenance": []
    },
    "kernelspec": {
      "name": "python3",
      "display_name": "Python 3"
    },
    "language_info": {
      "name": "python"
    }
  },
  "cells": [
    {
      "cell_type": "markdown",
      "source": [
        "# Lab Task 01"
      ],
      "metadata": {
        "id": "DR3RvooloecS"
      }
    },
    {
      "cell_type": "markdown",
      "source": [
        "Reshape a 1D NumPy array into a 2D array with dimensions (3, 4).\n",
        "\n",
        "Concatenate two NumPy arrays horizontally and vertically."
      ],
      "metadata": {
        "id": "Oi-yFvItoWzc"
      }
    },
    {
      "cell_type": "code",
      "source": [
        "import numpy as np\n",
        "\n",
        "# Create a 1D array with 12 elements\n",
        "array_1d = np.array([1, 2, 3, 4, 5, 6, 7, 8, 9, 10, 11, 12])\n",
        "print(\"1D array:\")\n",
        "print(array_1d)\n",
        "# Reshape the 1D array into a 2D array with dimensions (3, 4)\n",
        "array_2d = array_1d.reshape(3, 4)\n",
        "\n",
        "print(\"Reshaped 2D array:\")\n",
        "print(array_2d)\n",
        "print()\n",
        "\n",
        "# Create two 1D arrays\n",
        "array_1 = np.array([13, 14, 15, 16])\n",
        "array_2 = np.array([17, 18, 19, 20])\n",
        "\n",
        "# Concatenate the arrays horizontally\n",
        "concatenated_horizontal = np.hstack((array_1, array_2))\n",
        "\n",
        "# Concatenate the arrays vertically\n",
        "concatenated_vertical = np.vstack((array_1, array_2))\n",
        "\n",
        "print(\"Concatenated horizontally:\")\n",
        "print(concatenated_horizontal)\n",
        "print()\n",
        "\n",
        "print(\"Concatenated vertically:\")\n",
        "print(concatenated_vertical)\n"
      ],
      "metadata": {
        "id": "c379PMYOobDK",
        "colab": {
          "base_uri": "https://localhost:8080/"
        },
        "outputId": "0c5ee396-965d-4efd-cbcf-22f4c1d6dbc2"
      },
      "execution_count": 12,
      "outputs": [
        {
          "output_type": "stream",
          "name": "stdout",
          "text": [
            "1D array:\n",
            "[ 1  2  3  4  5  6  7  8  9 10 11 12]\n",
            "Reshaped 2D array:\n",
            "[[ 1  2  3  4]\n",
            " [ 5  6  7  8]\n",
            " [ 9 10 11 12]]\n",
            "\n",
            "Concatenated horizontally:\n",
            "[13 14 15 16 17 18 19 20]\n",
            "\n",
            "Concatenated vertically:\n",
            "[[13 14 15 16]\n",
            " [17 18 19 20]]\n"
          ]
        }
      ]
    },
    {
      "cell_type": "markdown",
      "source": [
        "# Lab Task 02"
      ],
      "metadata": {
        "id": "Dv9DtQ3jp6mq"
      }
    },
    {
      "cell_type": "markdown",
      "source": [
        "\n",
        "## Email Classification\n",
        "Develope a tool which will classify an email.\n",
        "\n",
        "### Tasks:\n",
        "* Create a function classify_emails that takes a list of emails as an argument.\n",
        "* Inside the function, categorize emails into \"Important,\" \"Promotions,\" and \"Spam\" based on keywords and content analysis.\n",
        "* Loop through the emails and identify keywords to determine their category.\n",
        "* If an email contains keywords indicating importance, assign it as \"Important.\"\n",
        "* If an email contains keywords related to promotions or deals, assign it as \"Promotions.\"\n",
        "* If an email is suspected to be spam based on certain keywords or patterns, assign it as \"Spam.\"\n",
        "* Return three lists of emails for each category.\n",
        "* Print the lists."
      ],
      "metadata": {
        "id": "2i6-zm_1ZAdn"
      }
    },
    {
      "cell_type": "code",
      "source": [
        "def classify_emails(emails):\n",
        "    important_keywords = [\"urgent\", \"important\", \"action required\"]\n",
        "    promotions_keywords = [\"deal\", \"discount\", \"offer\"]\n",
        "    spam_keywords = [\"lottery\", \"prize\", \"free\", \"click here\"]\n",
        "\n",
        "    important_emails = []\n",
        "    promotions_emails = []\n",
        "    spam_emails = []\n",
        "\n",
        "    for email in emails:\n",
        "        # Convert email content to lowercase for case-insensitive matching\n",
        "        lower_email = email.lower()\n",
        "\n",
        "        # Check for important keywords\n",
        "        if any(keyword in lower_email for keyword in important_keywords):\n",
        "            important_emails.append(email)\n",
        "        # Check for promotions keywords\n",
        "        elif any(keyword in lower_email for keyword in promotions_keywords):\n",
        "            promotions_emails.append(email)\n",
        "        # Check for spam keywords or patterns\n",
        "        elif any(keyword in lower_email for keyword in spam_keywords):\n",
        "            spam_emails.append(email)\n",
        "\n",
        "    return important_emails, promotions_emails, spam_emails\n",
        "\n",
        "# Example usage:\n",
        "emails_to_classify = [\n",
        "    \"Urgent: Action required on your account\",\n",
        "    \"Special promotion: Get 20% off on our products\",\n",
        "    \"Congratulations! You've won a prize!\",\n",
        "    \"Check out our latest deals and discounts\",\n",
        "    \"Important notice regarding your subscription\",\n",
        "    \"Click here for a free trial\"\n",
        "]\n",
        "\n",
        "important, promotions, spam = classify_emails(emails_to_classify)\n",
        "\n",
        "# Print the classified emails\n",
        "print(\"Important Emails:\")\n",
        "print(important)\n",
        "print(\"\\nPromotions Emails:\")\n",
        "print(promotions)\n",
        "print(\"\\nSpam Emails:\")\n",
        "print(spam)\n"
      ],
      "metadata": {
        "id": "SnCGPkq-o84Z",
        "colab": {
          "base_uri": "https://localhost:8080/"
        },
        "outputId": "26a4d98d-e9c1-49eb-dfab-db150f401e68"
      },
      "execution_count": 14,
      "outputs": [
        {
          "output_type": "stream",
          "name": "stdout",
          "text": [
            "Important Emails:\n",
            "['Urgent: Action required on your account', 'Important notice regarding your subscription']\n",
            "\n",
            "Promotions Emails:\n",
            "['Check out our latest deals and discounts']\n",
            "\n",
            "Spam Emails:\n",
            "[\"Congratulations! You've won a prize!\", 'Click here for a free trial']\n"
          ]
        }
      ]
    },
    {
      "cell_type": "markdown",
      "source": [
        "# Lab Task 03"
      ],
      "metadata": {
        "id": "amtV-GLWpCC7"
      }
    },
    {
      "cell_type": "markdown",
      "source": [
        "## English-Spanish Dictionary\n",
        "You are creating a basic English-Spanish dictionary that allows users to look up English words and find their Spanish translations.\n",
        "\n",
        "\n",
        "### Tasks\n",
        "* Create a dictionary where English words are keys and their Spanish translations are values.\n",
        "* Ask the user to input an English word.\n",
        "* Check if the word exists in the dictionary.\n",
        "* If the word exists, print its Spanish translation.\n",
        "* If the word does not exist, inform the user that the translation is not available.\n",
        "* Implement a loop that allows the user to keep looking up words until they choose to exit.\n"
      ],
      "metadata": {
        "id": "M2Zg-XsUpC72"
      }
    },
    {
      "cell_type": "code",
      "source": [
        "# Create an English-Spanish dictionary\n",
        "english_spanish_dict = {\n",
        "    \"hello\": \"hola\",\n",
        "    \"goodbye\": \"adiós\",\n",
        "    \"thank you\": \"gracias\",\n",
        "    \"yes\": \"sí\",\n",
        "    \"no\": \"no\",\n",
        "    # Add more words as needed\n",
        "}\n",
        "\n",
        "# Function to look up English words and print their Spanish translations\n",
        "def lookup_translation():\n",
        "    while True:\n",
        "        # Ask the user to input an English word\n",
        "        word_to_translate = input(\"Enter an English word (type 'exit' to end): \").lower()\n",
        "\n",
        "        # Check if the user wants to exit\n",
        "        if word_to_translate == 'exit':\n",
        "            print(\"Exiting the dictionary. Goodbye!\")\n",
        "            break\n",
        "\n",
        "        # Check if the word exists in the dictionary\n",
        "        if word_to_translate in english_spanish_dict:\n",
        "            # Print the Spanish translation\n",
        "            translation = english_spanish_dict[word_to_translate]\n",
        "            print(f\"The Spanish translation of '{word_to_translate}' is: {translation}\")\n",
        "        else:\n",
        "            # Inform the user that the translation is not available\n",
        "            print(f\"Translation not available for '{word_to_translate}'.\")\n",
        "\n",
        "# Call the function to start the translation lookup loop\n",
        "lookup_translation()\n"
      ],
      "metadata": {
        "id": "7RKtYbMZpJdh",
        "colab": {
          "base_uri": "https://localhost:8080/"
        },
        "outputId": "93ec44e3-20bf-47bb-9d1c-69d4a0b8314a"
      },
      "execution_count": 15,
      "outputs": [
        {
          "output_type": "stream",
          "name": "stdout",
          "text": [
            "Enter an English word (type 'exit' to end): yes\n",
            "The Spanish translation of 'yes' is: sí\n",
            "Enter an English word (type 'exit' to end): goodbye\n",
            "The Spanish translation of 'goodbye' is: adiós\n",
            "Enter an English word (type 'exit' to end): exit\n",
            "Exiting the dictionary. Goodbye!\n"
          ]
        }
      ]
    },
    {
      "cell_type": "markdown",
      "source": [
        "# Lab Task 04"
      ],
      "metadata": {
        "id": "h_8wOMWitspv"
      }
    },
    {
      "cell_type": "markdown",
      "source": [
        "dataset link : https://raw.githubusercontent.com/TirendazAcademy/PANDAS-TUTORIAL/main/DataSets/vgsalesGlobale.csv\n",
        "#Exercise\n",
        "Use the dataset of Game, we have explored earlier and perform following operations.\n",
        "\n",
        "* Calculate the total global sales for all games in the dataset.\n",
        "* Find the game with the highest global sales.\n",
        "* Determine the average sales for each region (NA_Sales, EU_Sales, JP_Sales, Other_Sales).\n",
        "* Find the top 5 most popular game genres based on global sales.\n",
        "* Calculate the total sales for each genre in each region and find the most popular genre in North America (NA_Sales).\n",
        "* Display last 10 rows.\n",
        "* Determine the top 3 gaming platforms with the highest global sales.\n",
        "* Calculate the market share (percentage of global sales) for each genre.\n",
        "* Calculate the correlation coefficient between NA_Sales and EU_Sales. (.corr function)"
      ],
      "metadata": {
        "id": "Qq4VH1Jkts32"
      }
    },
    {
      "cell_type": "markdown",
      "source": [
        "**Some** tree example"
      ],
      "metadata": {
        "id": "b9WEL8JcZFfY"
      }
    },
    {
      "cell_type": "code",
      "source": [
        "import pandas as pd\n",
        "dataset_url = 'https://raw.githubusercontent.com/TirendazAcademy/PANDAS-TUTORIAL/main/DataSets/vgsalesGlobale.csv'\n",
        "df = pd.read_csv(dataset_url)\n",
        "print(\"First few rows of the DataFrame:\")\n",
        "print(df.head())\n"
      ],
      "metadata": {
        "id": "re3_ijh12uCi",
        "colab": {
          "base_uri": "https://localhost:8080/"
        },
        "outputId": "ba045977-6a0c-4f2e-deb6-8e8e008d7c5b"
      },
      "execution_count": 30,
      "outputs": [
        {
          "output_type": "stream",
          "name": "stdout",
          "text": [
            "First few rows of the DataFrame:\n",
            "   Rank                      Name Platform    Year         Genre Publisher  \\\n",
            "0     1                Wii Sports      Wii  2006.0        Sports  Nintendo   \n",
            "1     2         Super Mario Bros.      NES  1985.0      Platform  Nintendo   \n",
            "2     3            Mario Kart Wii      Wii  2008.0        Racing  Nintendo   \n",
            "3     4         Wii Sports Resort      Wii  2009.0        Sports  Nintendo   \n",
            "4     5  Pokemon Red/Pokemon Blue       GB  1996.0  Role-Playing  Nintendo   \n",
            "\n",
            "   NA_Sales  EU_Sales  JP_Sales  Other_Sales  Global_Sales  \n",
            "0     41.49     29.02      3.77         8.46         82.74  \n",
            "1     29.08      3.58      6.81         0.77         40.24  \n",
            "2     15.85     12.88      3.79         3.31         35.82  \n",
            "3     15.75     11.01      3.28         2.96         33.00  \n",
            "4     11.27      8.89     10.22         1.00         31.37  \n"
          ]
        }
      ]
    },
    {
      "cell_type": "code",
      "source": [
        " #1. Calculate the total global sales for all games\n",
        "total_global_sales = df['Global_Sales'].sum()\n",
        "print(f\"Total Global Sales: {total_global_sales} million units\")"
      ],
      "metadata": {
        "id": "4eYXGm0c2yAl",
        "colab": {
          "base_uri": "https://localhost:8080/"
        },
        "outputId": "963fff98-9fa2-4723-8535-2ef4a9dddbd6"
      },
      "execution_count": 20,
      "outputs": [
        {
          "output_type": "stream",
          "name": "stdout",
          "text": [
            "Total Global Sales: 8920.44 million units\n"
          ]
        }
      ]
    },
    {
      "cell_type": "code",
      "source": [
        "# 2. Find the game with the highest global sales\n",
        "highest_global_sales_game = df.loc[df['Global_Sales'].idxmax()]['Name']\n",
        "print(f\"Game with the highest global sales: {highest_global_sales_game}\")"
      ],
      "metadata": {
        "id": "QBd8dZTF224G",
        "colab": {
          "base_uri": "https://localhost:8080/"
        },
        "outputId": "c00a631a-cb72-43a8-91f2-9e07bf7c1d4b"
      },
      "execution_count": 31,
      "outputs": [
        {
          "output_type": "stream",
          "name": "stdout",
          "text": [
            "Game with the highest global sales: Wii Sports\n"
          ]
        }
      ]
    },
    {
      "cell_type": "code",
      "source": [
        "# 3. Determine the average sales for each region\n",
        "average_sales_per_region = df[['NA_Sales', 'EU_Sales', 'JP_Sales', 'Other_Sales']].mean()\n",
        "print(\"Average Sales for Each Region:\")\n",
        "print(average_sales_per_region)"
      ],
      "metadata": {
        "colab": {
          "base_uri": "https://localhost:8080/"
        },
        "id": "90_ZKkiP4CDs",
        "outputId": "903a0091-e343-487a-ac7f-66db0be3dca6"
      },
      "execution_count": 32,
      "outputs": [
        {
          "output_type": "stream",
          "name": "stdout",
          "text": [
            "Average Sales for Each Region:\n",
            "NA_Sales       0.264667\n",
            "EU_Sales       0.146652\n",
            "JP_Sales       0.077782\n",
            "Other_Sales    0.048063\n",
            "dtype: float64\n"
          ]
        }
      ]
    },
    {
      "cell_type": "code",
      "source": [
        "# 4. Find the top 5 most popular game genres based on global sales\n",
        "top_genres_global_sales = df.groupby('Genre')['Global_Sales'].sum().nlargest(5)\n",
        "print(\"Top 5 Game Genres Based on Global Sales:\")\n",
        "print(top_genres_global_sales)"
      ],
      "metadata": {
        "colab": {
          "base_uri": "https://localhost:8080/"
        },
        "id": "Mz7JK5kT4MEO",
        "outputId": "994e89e0-505e-487d-f517-2fe39ffa9b7d"
      },
      "execution_count": 33,
      "outputs": [
        {
          "output_type": "stream",
          "name": "stdout",
          "text": [
            "Top 5 Game Genres Based on Global Sales:\n",
            "Genre\n",
            "Action          1751.18\n",
            "Sports          1330.93\n",
            "Shooter         1037.37\n",
            "Role-Playing     927.37\n",
            "Platform         831.37\n",
            "Name: Global_Sales, dtype: float64\n"
          ]
        }
      ]
    },
    {
      "cell_type": "code",
      "source": [
        "# 5. Calculate the total sales for each genre in each region\n",
        "total_sales_per_genre_per_region = df.groupby(['Genre', 'Platform'])[['NA_Sales', 'EU_Sales', 'JP_Sales', 'Other_Sales']].sum()\n",
        "most_popular_genre_na_sales = total_sales_per_genre_per_region['NA_Sales'].idxmax()\n",
        "print(f\"Most Popular Genre in North America (NA_Sales): {most_popular_genre_na_sales}\")"
      ],
      "metadata": {
        "colab": {
          "base_uri": "https://localhost:8080/"
        },
        "id": "rKqRJnH14Wlg",
        "outputId": "4522d091-c659-4bbd-a192-e4e818f8c637"
      },
      "execution_count": 34,
      "outputs": [
        {
          "output_type": "stream",
          "name": "stdout",
          "text": [
            "Most Popular Genre in North America (NA_Sales): ('Shooter', 'X360')\n"
          ]
        }
      ]
    },
    {
      "cell_type": "code",
      "source": [
        "# 6. Display last 10 rows\n",
        "last_10_rows = df.tail(10)\n",
        "print(\"Last 10 Rows:\")\n",
        "print(last_10_rows)"
      ],
      "metadata": {
        "colab": {
          "base_uri": "https://localhost:8080/"
        },
        "id": "9vt0zS6p4a0K",
        "outputId": "a62ca505-67b1-4f64-be35-132b8c707bd0"
      },
      "execution_count": 35,
      "outputs": [
        {
          "output_type": "stream",
          "name": "stdout",
          "text": [
            "Last 10 Rows:\n",
            "        Rank                                               Name Platform  \\\n",
            "16588  16591                                   Mega Brain Boost       DS   \n",
            "16589  16592  Chou Ezaru wa Akai Hana: Koi wa Tsuki ni Shiru...      PSV   \n",
            "16590  16593  Eiyuu Densetsu: Sora no Kiseki Material Collec...      PSP   \n",
            "16591  16594                                Myst IV: Revelation       PC   \n",
            "16592  16595                                           Plushees       DS   \n",
            "16593  16596                 Woody Woodpecker in Crazy Castle 5      GBA   \n",
            "16594  16597                      Men in Black II: Alien Escape       GC   \n",
            "16595  16598   SCORE International Baja 1000: The Official Game      PS2   \n",
            "16596  16599                                         Know How 2       DS   \n",
            "16597  16600                                   Spirits & Spells      GBA   \n",
            "\n",
            "         Year         Genre              Publisher  NA_Sales  EU_Sales  \\\n",
            "16588  2008.0        Puzzle  Majesco Entertainment      0.01      0.00   \n",
            "16589  2016.0        Action        dramatic create      0.00      0.00   \n",
            "16590  2007.0  Role-Playing     Falcom Corporation      0.00      0.00   \n",
            "16591  2004.0     Adventure                Ubisoft      0.01      0.00   \n",
            "16592  2008.0    Simulation              Destineer      0.01      0.00   \n",
            "16593  2002.0      Platform                  Kemco      0.01      0.00   \n",
            "16594  2003.0       Shooter             Infogrames      0.01      0.00   \n",
            "16595  2008.0        Racing             Activision      0.00      0.00   \n",
            "16596  2010.0        Puzzle               7G//AMES      0.00      0.01   \n",
            "16597  2003.0      Platform                Wanadoo      0.01      0.00   \n",
            "\n",
            "       JP_Sales  Other_Sales  Global_Sales  \n",
            "16588      0.00          0.0          0.01  \n",
            "16589      0.01          0.0          0.01  \n",
            "16590      0.01          0.0          0.01  \n",
            "16591      0.00          0.0          0.01  \n",
            "16592      0.00          0.0          0.01  \n",
            "16593      0.00          0.0          0.01  \n",
            "16594      0.00          0.0          0.01  \n",
            "16595      0.00          0.0          0.01  \n",
            "16596      0.00          0.0          0.01  \n",
            "16597      0.00          0.0          0.01  \n"
          ]
        }
      ]
    },
    {
      "cell_type": "code",
      "source": [
        "# 7. Determine the top 3 gaming platforms with the highest global sales\n",
        "top_3_platforms_global_sales = df.groupby('Platform')['Global_Sales'].sum().nlargest(3)\n",
        "print(\"Top 3 Gaming Platforms with the Highest Global Sales:\")\n",
        "print(top_3_platforms_global_sales)\n"
      ],
      "metadata": {
        "colab": {
          "base_uri": "https://localhost:8080/"
        },
        "id": "CG7vQnmf4gAs",
        "outputId": "b7d33252-3ef1-41b4-832e-b0b04783a19a"
      },
      "execution_count": 36,
      "outputs": [
        {
          "output_type": "stream",
          "name": "stdout",
          "text": [
            "Top 3 Gaming Platforms with the Highest Global Sales:\n",
            "Platform\n",
            "PS2     1255.64\n",
            "X360     979.96\n",
            "PS3      957.84\n",
            "Name: Global_Sales, dtype: float64\n"
          ]
        }
      ]
    },
    {
      "cell_type": "code",
      "source": [
        "# 8. Calculate the market share for each genre\n",
        "market_share_per_genre = (df.groupby('Genre')['Global_Sales'].sum() / total_global_sales) * 100\n",
        "print(\"Market Share (Percentage of Global Sales) for Each Genre:\")\n",
        "print(market_share_per_genre)"
      ],
      "metadata": {
        "colab": {
          "base_uri": "https://localhost:8080/"
        },
        "id": "KHUtGE6i4kix",
        "outputId": "9085f89d-2e64-4660-ab29-c4660848e27d"
      },
      "execution_count": 37,
      "outputs": [
        {
          "output_type": "stream",
          "name": "stdout",
          "text": [
            "Market Share (Percentage of Global Sales) for Each Genre:\n",
            "Genre\n",
            "Action          19.631094\n",
            "Adventure        2.679688\n",
            "Fighting         5.032375\n",
            "Misc             9.079821\n",
            "Platform         9.319832\n",
            "Puzzle           2.745941\n",
            "Racing           8.206322\n",
            "Role-Playing    10.396012\n",
            "Shooter         11.629135\n",
            "Simulation       4.396644\n",
            "Sports          14.920004\n",
            "Strategy         1.963132\n",
            "Name: Global_Sales, dtype: float64\n"
          ]
        }
      ]
    },
    {
      "cell_type": "code",
      "source": [
        "\n",
        "# 9. Calculate the correlation coefficient between NA_Sales and EU_Sales\n",
        "correlation_coefficient = df['NA_Sales'].corr(df['EU_Sales'])\n",
        "print(f\"Correlation Coefficient between NA_Sales and EU_Sales: {correlation_coefficient}\")"
      ],
      "metadata": {
        "colab": {
          "base_uri": "https://localhost:8080/"
        },
        "id": "EP22SKh_4p7I",
        "outputId": "d72b3933-90b8-4bdb-ca12-8d7381e7755e"
      },
      "execution_count": 38,
      "outputs": [
        {
          "output_type": "stream",
          "name": "stdout",
          "text": [
            "Correlation Coefficient between NA_Sales and EU_Sales: 0.7677267483702631\n"
          ]
        }
      ]
    }
  ]
}